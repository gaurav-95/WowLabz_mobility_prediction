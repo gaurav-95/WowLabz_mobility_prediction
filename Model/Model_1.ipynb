{
 "cells": [
  {
   "cell_type": "code",
   "execution_count": 1,
   "id": "06cde37f",
   "metadata": {},
   "outputs": [],
   "source": [
    "import pandas as pd\n",
    "import numpy as np\n",
    "import matplotlib.pyplot as plt\n",
    "\n",
    "import scipy\n",
    "import tensorflow as tf\n",
    "from tensorflow import keras\n",
    "from tensorflow.keras import Sequential, layers, callbacks\n",
    "from tensorflow.keras.layers import Dense, LSTM, Dropout, GRU, Bidirectional\n",
    "\n",
    "from sklearn.preprocessing import MinMaxScaler\n",
    "from sklearn.model_selection import train_test_split\n",
    "\n",
    "#from IPython.core.pylabtools import figure\n",
    "\n",
    "#from pandas.plotting import register_matplitlib_converters\n",
    "#register_matplotlib_converters()\n",
    "\n",
    "import seaborn as sns"
   ]
  },
  {
   "cell_type": "code",
   "execution_count": 2,
   "id": "ea959d69",
   "metadata": {},
   "outputs": [],
   "source": [
    "# Link to dataset \"https://archive.ics.uci.edu/ml/datasets/GPS+Trajectories\""
   ]
  },
  {
   "cell_type": "code",
   "execution_count": 3,
   "id": "f8107dd1",
   "metadata": {},
   "outputs": [],
   "source": [
    "path = r\"C:\\Users\\Gaurav\\Downloads\\WowLabz\\WowLabz_mobility_prediction\\Dataset\"\n",
    "file = r\"\\go_track_trackspoints.csv\""
   ]
  },
  {
   "cell_type": "code",
   "execution_count": 4,
   "id": "fd095592",
   "metadata": {},
   "outputs": [
    {
     "data": {
      "text/plain": [
       "time\n",
       "2014-09-13 07:24:32        1\n",
       "2014-09-13 07:24:37        2\n",
       "2014-09-13 07:24:42        3\n",
       "2014-09-13 07:24:47        4\n",
       "2014-09-13 07:24:53        5\n",
       "                       ...  \n",
       "2016-01-19 13:01:01    19565\n",
       "2016-01-19 13:01:12    19566\n",
       "2016-01-19 13:01:24    19567\n",
       "2016-01-19 13:01:36    19568\n",
       "2016-01-19 13:01:47    19569\n",
       "Name: id, Length: 18107, dtype: int64"
      ]
     },
     "execution_count": 4,
     "metadata": {},
     "output_type": "execute_result"
    }
   ],
   "source": [
    "df = pd.read_csv(path+file, parse_dates = ['time'], index_col = \"time\")\n",
    "df.pop('id')"
   ]
  },
  {
   "cell_type": "code",
   "execution_count": 5,
   "id": "c1c87a5d",
   "metadata": {},
   "outputs": [
    {
     "name": "stderr",
     "output_type": "stream",
     "text": [
      "C:\\Users\\Gaurav\\anaconda3\\lib\\site-packages\\seaborn\\_decorators.py:36: FutureWarning: Pass the following variables as keyword args: x, y. From version 0.12, the only valid positional argument will be `data`, and passing other arguments without an explicit keyword will result in an error or misinterpretation.\n",
      "  warnings.warn(\n"
     ]
    },
    {
     "data": {
      "text/plain": [
       "<AxesSubplot:xlabel='latitude', ylabel='longitude'>"
      ]
     },
     "execution_count": 5,
     "metadata": {},
     "output_type": "execute_result"
    },
    {
     "data": {
      "image/png": "[encoded data removed]",
      "text/plain": [
       "<Figure size 1080x576 with 1 Axes>"
      ]
     },
     "metadata": {
      "needs_background": "light"
     },
     "output_type": "display_data"
    }
   ],
   "source": [
    "plt.figure(figsize = (15,8))\n",
    "sns.scatterplot(df['latitude'], df['longitude'])"
   ]
  },
  {
   "cell_type": "code",
   "execution_count": 6,
   "id": "a600a5f0",
   "metadata": {},
   "outputs": [
    {
     "name": "stdout",
     "output_type": "stream",
     "text": [
      "<class 'pandas.core.frame.DataFrame'>\n",
      "DatetimeIndex: 18107 entries, 2014-09-13 07:24:32 to 2016-01-19 13:01:47\n",
      "Data columns (total 3 columns):\n",
      " #   Column     Non-Null Count  Dtype  \n",
      "---  ------     --------------  -----  \n",
      " 0   latitude   18107 non-null  float64\n",
      " 1   longitude  18107 non-null  float64\n",
      " 2   track_id   18107 non-null  int64  \n",
      "dtypes: float64(2), int64(1)\n",
      "memory usage: 565.8 KB\n"
     ]
    }
   ],
   "source": [
    "df.info()"
   ]
  },
  {
   "cell_type": "code",
   "execution_count": 7,
   "id": "3aa180da",
   "metadata": {},
   "outputs": [
    {
     "data": {
      "text/html": [
       "<div>\n",
       "<style scoped>\n",
       "    .dataframe tbody tr th:only-of-type {\n",
       "        vertical-align: middle;\n",
       "    }\n",
       "\n",
       "    .dataframe tbody tr th {\n",
       "        vertical-align: top;\n",
       "    }\n",
       "\n",
       "    .dataframe thead th {\n",
       "        text-align: right;\n",
       "    }\n",
       "</style>\n",
       "<table border=\"1\" class=\"dataframe\">\n",
       "  <thead>\n",
       "    <tr style=\"text-align: right;\">\n",
       "      <th></th>\n",
       "      <th>latitude</th>\n",
       "      <th>longitude</th>\n",
       "      <th>track_id</th>\n",
       "    </tr>\n",
       "  </thead>\n",
       "  <tbody>\n",
       "    <tr>\n",
       "      <th>count</th>\n",
       "      <td>18107.000000</td>\n",
       "      <td>18107.000000</td>\n",
       "      <td>18107.000000</td>\n",
       "    </tr>\n",
       "    <tr>\n",
       "      <th>mean</th>\n",
       "      <td>-10.998744</td>\n",
       "      <td>-37.111923</td>\n",
       "      <td>13296.340697</td>\n",
       "    </tr>\n",
       "    <tr>\n",
       "      <th>std</th>\n",
       "      <td>1.329848</td>\n",
       "      <td>0.938015</td>\n",
       "      <td>18040.767448</td>\n",
       "    </tr>\n",
       "    <tr>\n",
       "      <th>min</th>\n",
       "      <td>-27.603175</td>\n",
       "      <td>-48.632918</td>\n",
       "      <td>1.000000</td>\n",
       "    </tr>\n",
       "    <tr>\n",
       "      <th>25%</th>\n",
       "      <td>-10.944041</td>\n",
       "      <td>-37.073069</td>\n",
       "      <td>33.000000</td>\n",
       "    </tr>\n",
       "    <tr>\n",
       "      <th>50%</th>\n",
       "      <td>-10.922000</td>\n",
       "      <td>-37.057784</td>\n",
       "      <td>136.000000</td>\n",
       "    </tr>\n",
       "    <tr>\n",
       "      <th>75%</th>\n",
       "      <td>-10.904268</td>\n",
       "      <td>-37.050190</td>\n",
       "      <td>37992.000000</td>\n",
       "    </tr>\n",
       "    <tr>\n",
       "      <th>max</th>\n",
       "      <td>-10.292845</td>\n",
       "      <td>-36.493357</td>\n",
       "      <td>38092.000000</td>\n",
       "    </tr>\n",
       "  </tbody>\n",
       "</table>\n",
       "</div>"
      ],
      "text/plain": [
       "           latitude     longitude      track_id\n",
       "count  18107.000000  18107.000000  18107.000000\n",
       "mean     -10.998744    -37.111923  13296.340697\n",
       "std        1.329848      0.938015  18040.767448\n",
       "min      -27.603175    -48.632918      1.000000\n",
       "25%      -10.944041    -37.073069     33.000000\n",
       "50%      -10.922000    -37.057784    136.000000\n",
       "75%      -10.904268    -37.050190  37992.000000\n",
       "max      -10.292845    -36.493357  38092.000000"
      ]
     },
     "execution_count": 7,
     "metadata": {},
     "output_type": "execute_result"
    }
   ],
   "source": [
    "df.describe()"
   ]
  },
  {
   "cell_type": "code",
   "execution_count": 8,
   "id": "f39c2c23",
   "metadata": {},
   "outputs": [
    {
     "data": {
      "text/html": [
       "<div>\n",
       "<style scoped>\n",
       "    .dataframe tbody tr th:only-of-type {\n",
       "        vertical-align: middle;\n",
       "    }\n",
       "\n",
       "    .dataframe tbody tr th {\n",
       "        vertical-align: top;\n",
       "    }\n",
       "\n",
       "    .dataframe thead th {\n",
       "        text-align: right;\n",
       "    }\n",
       "</style>\n",
       "<table border=\"1\" class=\"dataframe\">\n",
       "  <thead>\n",
       "    <tr style=\"text-align: right;\">\n",
       "      <th></th>\n",
       "      <th>latitude</th>\n",
       "      <th>longitude</th>\n",
       "      <th>track_id</th>\n",
       "    </tr>\n",
       "    <tr>\n",
       "      <th>time</th>\n",
       "      <th></th>\n",
       "      <th></th>\n",
       "      <th></th>\n",
       "    </tr>\n",
       "  </thead>\n",
       "  <tbody>\n",
       "    <tr>\n",
       "      <th>2014-09-13 07:24:32</th>\n",
       "      <td>-10.939341</td>\n",
       "      <td>-37.062742</td>\n",
       "      <td>1</td>\n",
       "    </tr>\n",
       "    <tr>\n",
       "      <th>2014-09-13 07:24:37</th>\n",
       "      <td>-10.939341</td>\n",
       "      <td>-37.062742</td>\n",
       "      <td>1</td>\n",
       "    </tr>\n",
       "    <tr>\n",
       "      <th>2014-09-13 07:24:42</th>\n",
       "      <td>-10.939324</td>\n",
       "      <td>-37.062765</td>\n",
       "      <td>1</td>\n",
       "    </tr>\n",
       "    <tr>\n",
       "      <th>2014-09-13 07:24:47</th>\n",
       "      <td>-10.939211</td>\n",
       "      <td>-37.062843</td>\n",
       "      <td>1</td>\n",
       "    </tr>\n",
       "    <tr>\n",
       "      <th>2014-09-13 07:24:53</th>\n",
       "      <td>-10.938939</td>\n",
       "      <td>-37.062879</td>\n",
       "      <td>1</td>\n",
       "    </tr>\n",
       "    <tr>\n",
       "      <th>...</th>\n",
       "      <td>...</td>\n",
       "      <td>...</td>\n",
       "      <td>...</td>\n",
       "    </tr>\n",
       "    <tr>\n",
       "      <th>2016-01-19 13:01:01</th>\n",
       "      <td>-10.923722</td>\n",
       "      <td>-37.106579</td>\n",
       "      <td>38092</td>\n",
       "    </tr>\n",
       "    <tr>\n",
       "      <th>2016-01-19 13:01:12</th>\n",
       "      <td>-10.923704</td>\n",
       "      <td>-37.106693</td>\n",
       "      <td>38092</td>\n",
       "    </tr>\n",
       "    <tr>\n",
       "      <th>2016-01-19 13:01:24</th>\n",
       "      <td>-10.923715</td>\n",
       "      <td>-37.106688</td>\n",
       "      <td>38092</td>\n",
       "    </tr>\n",
       "    <tr>\n",
       "      <th>2016-01-19 13:01:36</th>\n",
       "      <td>-10.923715</td>\n",
       "      <td>-37.106688</td>\n",
       "      <td>38092</td>\n",
       "    </tr>\n",
       "    <tr>\n",
       "      <th>2016-01-19 13:01:47</th>\n",
       "      <td>-10.923716</td>\n",
       "      <td>-37.106688</td>\n",
       "      <td>38092</td>\n",
       "    </tr>\n",
       "  </tbody>\n",
       "</table>\n",
       "<p>18107 rows × 3 columns</p>\n",
       "</div>"
      ],
      "text/plain": [
       "                      latitude  longitude  track_id\n",
       "time                                               \n",
       "2014-09-13 07:24:32 -10.939341 -37.062742         1\n",
       "2014-09-13 07:24:37 -10.939341 -37.062742         1\n",
       "2014-09-13 07:24:42 -10.939324 -37.062765         1\n",
       "2014-09-13 07:24:47 -10.939211 -37.062843         1\n",
       "2014-09-13 07:24:53 -10.938939 -37.062879         1\n",
       "...                        ...        ...       ...\n",
       "2016-01-19 13:01:01 -10.923722 -37.106579     38092\n",
       "2016-01-19 13:01:12 -10.923704 -37.106693     38092\n",
       "2016-01-19 13:01:24 -10.923715 -37.106688     38092\n",
       "2016-01-19 13:01:36 -10.923715 -37.106688     38092\n",
       "2016-01-19 13:01:47 -10.923716 -37.106688     38092\n",
       "\n",
       "[18107 rows x 3 columns]"
      ]
     },
     "execution_count": 8,
     "metadata": {},
     "output_type": "execute_result"
    }
   ],
   "source": [
    "df"
   ]
  },
  {
   "cell_type": "code",
   "execution_count": 9,
   "id": "17c05446",
   "metadata": {},
   "outputs": [
    {
     "data": {
      "text/html": [
       "<div>\n",
       "<style scoped>\n",
       "    .dataframe tbody tr th:only-of-type {\n",
       "        vertical-align: middle;\n",
       "    }\n",
       "\n",
       "    .dataframe tbody tr th {\n",
       "        vertical-align: top;\n",
       "    }\n",
       "\n",
       "    .dataframe thead th {\n",
       "        text-align: right;\n",
       "    }\n",
       "</style>\n",
       "<table border=\"1\" class=\"dataframe\">\n",
       "  <thead>\n",
       "    <tr style=\"text-align: right;\">\n",
       "      <th></th>\n",
       "      <th>latitude</th>\n",
       "      <th>longitude</th>\n",
       "    </tr>\n",
       "    <tr>\n",
       "      <th>track_id</th>\n",
       "      <th></th>\n",
       "      <th></th>\n",
       "    </tr>\n",
       "  </thead>\n",
       "  <tbody>\n",
       "    <tr>\n",
       "      <th>1</th>\n",
       "      <td>90</td>\n",
       "      <td>90</td>\n",
       "    </tr>\n",
       "    <tr>\n",
       "      <th>2</th>\n",
       "      <td>113</td>\n",
       "      <td>113</td>\n",
       "    </tr>\n",
       "    <tr>\n",
       "      <th>3</th>\n",
       "      <td>23</td>\n",
       "      <td>23</td>\n",
       "    </tr>\n",
       "    <tr>\n",
       "      <th>4</th>\n",
       "      <td>129</td>\n",
       "      <td>129</td>\n",
       "    </tr>\n",
       "    <tr>\n",
       "      <th>8</th>\n",
       "      <td>20</td>\n",
       "      <td>20</td>\n",
       "    </tr>\n",
       "    <tr>\n",
       "      <th>...</th>\n",
       "      <td>...</td>\n",
       "      <td>...</td>\n",
       "    </tr>\n",
       "    <tr>\n",
       "      <th>38081</th>\n",
       "      <td>122</td>\n",
       "      <td>122</td>\n",
       "    </tr>\n",
       "    <tr>\n",
       "      <th>38082</th>\n",
       "      <td>134</td>\n",
       "      <td>134</td>\n",
       "    </tr>\n",
       "    <tr>\n",
       "      <th>38084</th>\n",
       "      <td>4</td>\n",
       "      <td>4</td>\n",
       "    </tr>\n",
       "    <tr>\n",
       "      <th>38090</th>\n",
       "      <td>2</td>\n",
       "      <td>2</td>\n",
       "    </tr>\n",
       "    <tr>\n",
       "      <th>38092</th>\n",
       "      <td>5</td>\n",
       "      <td>5</td>\n",
       "    </tr>\n",
       "  </tbody>\n",
       "</table>\n",
       "<p>163 rows × 2 columns</p>\n",
       "</div>"
      ],
      "text/plain": [
       "          latitude  longitude\n",
       "track_id                     \n",
       "1               90         90\n",
       "2              113        113\n",
       "3               23         23\n",
       "4              129        129\n",
       "8               20         20\n",
       "...            ...        ...\n",
       "38081          122        122\n",
       "38082          134        134\n",
       "38084            4          4\n",
       "38090            2          2\n",
       "38092            5          5\n",
       "\n",
       "[163 rows x 2 columns]"
      ]
     },
     "execution_count": 9,
     "metadata": {},
     "output_type": "execute_result"
    }
   ],
   "source": [
    "# Checking number of data points per track_id\n",
    "df.groupby(\"track_id\").count()"
   ]
  },
  {
   "cell_type": "code",
   "execution_count": 10,
   "id": "3e363502",
   "metadata": {},
   "outputs": [
    {
     "data": {
      "text/html": [
       "<div>\n",
       "<style scoped>\n",
       "    .dataframe tbody tr th:only-of-type {\n",
       "        vertical-align: middle;\n",
       "    }\n",
       "\n",
       "    .dataframe tbody tr th {\n",
       "        vertical-align: top;\n",
       "    }\n",
       "\n",
       "    .dataframe thead th {\n",
       "        text-align: right;\n",
       "    }\n",
       "</style>\n",
       "<table border=\"1\" class=\"dataframe\">\n",
       "  <thead>\n",
       "    <tr style=\"text-align: right;\">\n",
       "      <th></th>\n",
       "      <th>latitude</th>\n",
       "      <th>longitude</th>\n",
       "      <th>track_id</th>\n",
       "    </tr>\n",
       "    <tr>\n",
       "      <th>time</th>\n",
       "      <th></th>\n",
       "      <th></th>\n",
       "      <th></th>\n",
       "    </tr>\n",
       "  </thead>\n",
       "  <tbody>\n",
       "    <tr>\n",
       "      <th>2014-09-13 07:24:32</th>\n",
       "      <td>-10.939341</td>\n",
       "      <td>-37.062742</td>\n",
       "      <td>1</td>\n",
       "    </tr>\n",
       "    <tr>\n",
       "      <th>2014-09-13 07:24:37</th>\n",
       "      <td>-10.939341</td>\n",
       "      <td>-37.062742</td>\n",
       "      <td>1</td>\n",
       "    </tr>\n",
       "    <tr>\n",
       "      <th>2014-09-13 07:24:42</th>\n",
       "      <td>-10.939324</td>\n",
       "      <td>-37.062765</td>\n",
       "      <td>1</td>\n",
       "    </tr>\n",
       "    <tr>\n",
       "      <th>2014-09-13 07:24:47</th>\n",
       "      <td>-10.939211</td>\n",
       "      <td>-37.062843</td>\n",
       "      <td>1</td>\n",
       "    </tr>\n",
       "    <tr>\n",
       "      <th>2014-09-13 07:24:53</th>\n",
       "      <td>-10.938939</td>\n",
       "      <td>-37.062879</td>\n",
       "      <td>1</td>\n",
       "    </tr>\n",
       "    <tr>\n",
       "      <th>...</th>\n",
       "      <td>...</td>\n",
       "      <td>...</td>\n",
       "      <td>...</td>\n",
       "    </tr>\n",
       "    <tr>\n",
       "      <th>2015-11-23 22:24:32</th>\n",
       "      <td>-10.944160</td>\n",
       "      <td>-37.088702</td>\n",
       "      <td>38082</td>\n",
       "    </tr>\n",
       "    <tr>\n",
       "      <th>2015-11-23 22:24:42</th>\n",
       "      <td>-10.943978</td>\n",
       "      <td>-37.089421</td>\n",
       "      <td>38082</td>\n",
       "    </tr>\n",
       "    <tr>\n",
       "      <th>2015-11-23 22:24:50</th>\n",
       "      <td>-10.943601</td>\n",
       "      <td>-37.089233</td>\n",
       "      <td>38082</td>\n",
       "    </tr>\n",
       "    <tr>\n",
       "      <th>2015-11-23 22:24:57</th>\n",
       "      <td>-10.943469</td>\n",
       "      <td>-37.089071</td>\n",
       "      <td>38082</td>\n",
       "    </tr>\n",
       "    <tr>\n",
       "      <th>2015-11-23 22:25:04</th>\n",
       "      <td>-10.943469</td>\n",
       "      <td>-37.089071</td>\n",
       "      <td>38082</td>\n",
       "    </tr>\n",
       "  </tbody>\n",
       "</table>\n",
       "<p>17440 rows × 3 columns</p>\n",
       "</div>"
      ],
      "text/plain": [
       "                      latitude  longitude  track_id\n",
       "time                                               \n",
       "2014-09-13 07:24:32 -10.939341 -37.062742         1\n",
       "2014-09-13 07:24:37 -10.939341 -37.062742         1\n",
       "2014-09-13 07:24:42 -10.939324 -37.062765         1\n",
       "2014-09-13 07:24:47 -10.939211 -37.062843         1\n",
       "2014-09-13 07:24:53 -10.938939 -37.062879         1\n",
       "...                        ...        ...       ...\n",
       "2015-11-23 22:24:32 -10.944160 -37.088702     38082\n",
       "2015-11-23 22:24:42 -10.943978 -37.089421     38082\n",
       "2015-11-23 22:24:50 -10.943601 -37.089233     38082\n",
       "2015-11-23 22:24:57 -10.943469 -37.089071     38082\n",
       "2015-11-23 22:25:04 -10.943469 -37.089071     38082\n",
       "\n",
       "[17440 rows x 3 columns]"
      ]
     },
     "execution_count": 10,
     "metadata": {},
     "output_type": "execute_result"
    }
   ],
   "source": [
    "# Removing values where records are less than 50\n",
    "sub_df = df[df.groupby('track_id').latitude.transform('count')>50].copy()\n",
    "sub_df"
   ]
  },
  {
   "cell_type": "code",
   "execution_count": 11,
   "id": "cf93acbf",
   "metadata": {},
   "outputs": [
    {
     "data": {
      "text/html": [
       "<div>\n",
       "<style scoped>\n",
       "    .dataframe tbody tr th:only-of-type {\n",
       "        vertical-align: middle;\n",
       "    }\n",
       "\n",
       "    .dataframe tbody tr th {\n",
       "        vertical-align: top;\n",
       "    }\n",
       "\n",
       "    .dataframe thead th {\n",
       "        text-align: right;\n",
       "    }\n",
       "</style>\n",
       "<table border=\"1\" class=\"dataframe\">\n",
       "  <thead>\n",
       "    <tr style=\"text-align: right;\">\n",
       "      <th></th>\n",
       "      <th>latitude</th>\n",
       "      <th>longitude</th>\n",
       "    </tr>\n",
       "    <tr>\n",
       "      <th>track_id</th>\n",
       "      <th></th>\n",
       "      <th></th>\n",
       "    </tr>\n",
       "  </thead>\n",
       "  <tbody>\n",
       "    <tr>\n",
       "      <th>1</th>\n",
       "      <td>90</td>\n",
       "      <td>90</td>\n",
       "    </tr>\n",
       "    <tr>\n",
       "      <th>2</th>\n",
       "      <td>113</td>\n",
       "      <td>113</td>\n",
       "    </tr>\n",
       "    <tr>\n",
       "      <th>4</th>\n",
       "      <td>129</td>\n",
       "      <td>129</td>\n",
       "    </tr>\n",
       "    <tr>\n",
       "      <th>11</th>\n",
       "      <td>108</td>\n",
       "      <td>108</td>\n",
       "    </tr>\n",
       "    <tr>\n",
       "      <th>13</th>\n",
       "      <td>180</td>\n",
       "      <td>180</td>\n",
       "    </tr>\n",
       "    <tr>\n",
       "      <th>...</th>\n",
       "      <td>...</td>\n",
       "      <td>...</td>\n",
       "    </tr>\n",
       "    <tr>\n",
       "      <th>38077</th>\n",
       "      <td>71</td>\n",
       "      <td>71</td>\n",
       "    </tr>\n",
       "    <tr>\n",
       "      <th>38079</th>\n",
       "      <td>103</td>\n",
       "      <td>103</td>\n",
       "    </tr>\n",
       "    <tr>\n",
       "      <th>38080</th>\n",
       "      <td>57</td>\n",
       "      <td>57</td>\n",
       "    </tr>\n",
       "    <tr>\n",
       "      <th>38081</th>\n",
       "      <td>122</td>\n",
       "      <td>122</td>\n",
       "    </tr>\n",
       "    <tr>\n",
       "      <th>38082</th>\n",
       "      <td>134</td>\n",
       "      <td>134</td>\n",
       "    </tr>\n",
       "  </tbody>\n",
       "</table>\n",
       "<p>103 rows × 2 columns</p>\n",
       "</div>"
      ],
      "text/plain": [
       "          latitude  longitude\n",
       "track_id                     \n",
       "1               90         90\n",
       "2              113        113\n",
       "4              129        129\n",
       "11             108        108\n",
       "13             180        180\n",
       "...            ...        ...\n",
       "38077           71         71\n",
       "38079          103        103\n",
       "38080           57         57\n",
       "38081          122        122\n",
       "38082          134        134\n",
       "\n",
       "[103 rows x 2 columns]"
      ]
     },
     "execution_count": 11,
     "metadata": {},
     "output_type": "execute_result"
    }
   ],
   "source": [
    "sub_df.groupby(\"track_id\").count()"
   ]
  },
  {
   "cell_type": "code",
   "execution_count": 12,
   "id": "925012af",
   "metadata": {},
   "outputs": [],
   "source": [
    "df = sub_df"
   ]
  },
  {
   "cell_type": "code",
   "execution_count": 13,
   "id": "37f5aa05",
   "metadata": {},
   "outputs": [
    {
     "name": "stderr",
     "output_type": "stream",
     "text": [
      "C:\\Users\\Gaurav\\anaconda3\\lib\\site-packages\\seaborn\\_decorators.py:36: FutureWarning: Pass the following variables as keyword args: x, y. From version 0.12, the only valid positional argument will be `data`, and passing other arguments without an explicit keyword will result in an error or misinterpretation.\n",
      "  warnings.warn(\n"
     ]
    },
    {
     "data": {
      "text/plain": [
       "<AxesSubplot:xlabel='latitude', ylabel='longitude'>"
      ]
     },
     "execution_count": 13,
     "metadata": {},
     "output_type": "execute_result"
    },
    {
     "data": {
      "image/png": "[encoded data removed]",
      "text/plain": [
       "<Figure size 1080x576 with 1 Axes>"
      ]
     },
     "metadata": {
      "needs_background": "light"
     },
     "output_type": "display_data"
    }
   ],
   "source": [
    "plt.figure(figsize = (15,8))\n",
    "sns.scatterplot(df['latitude'], df['longitude'])"
   ]
  },
  {
   "cell_type": "code",
   "execution_count": 14,
   "id": "6244d95d",
   "metadata": {},
   "outputs": [],
   "source": [
    "# Set random seed for reproducibility\n",
    "tf.random.set_seed(1234)"
   ]
  },
  {
   "cell_type": "code",
   "execution_count": 15,
   "id": "6b436e00",
   "metadata": {},
   "outputs": [
    {
     "data": {
      "image/png": "[encoded data removed]",
      "text/plain": [
       "<Figure size 720x432 with 1 Axes>"
      ]
     },
     "metadata": {
      "needs_background": "light"
     },
     "output_type": "display_data"
    },
    {
     "data": {
      "image/png": "[encoded data removed]",
      "text/plain": [
       "<Figure size 720x432 with 1 Axes>"
      ]
     },
     "metadata": {
      "needs_background": "light"
     },
     "output_type": "display_data"
    }
   ],
   "source": [
    "# Define a function to draw time_series plot\n",
    "def timeseries (x_axis, y_axis, x_label, y_label):\n",
    "    plt.figure(figsize = (10, 6))\n",
    "    plt.plot(x_axis, y_axis, color ='black')\n",
    "    plt.xlabel(x_label, {'fontsize': 12}) \n",
    "    plt.ylabel(y_label, {'fontsize': 12})\n",
    "timeseries(df.index, df['latitude'], 'Time','Latitude values')\n",
    "timeseries(df.index, df['longitude'], 'Time','Longitude values')"
   ]
  },
  {
   "cell_type": "code",
   "execution_count": 16,
   "id": "c0bfbcc2",
   "metadata": {},
   "outputs": [
    {
     "data": {
      "text/plain": [
       "latitude     0\n",
       "longitude    0\n",
       "track_id     0\n",
       "dtype: int64"
      ]
     },
     "execution_count": 16,
     "metadata": {},
     "output_type": "execute_result"
    }
   ],
   "source": [
    "# Check missing values\n",
    "df.isnull().sum()"
   ]
  },
  {
   "cell_type": "code",
   "execution_count": 17,
   "id": "760e2338",
   "metadata": {},
   "outputs": [
    {
     "name": "stdout",
     "output_type": "stream",
     "text": [
      "Dimension of train data:  (13952, 3)\n",
      "Dimension of test data:  (3488, 3)\n"
     ]
    },
    {
     "data": {
      "image/png": "[encoded data removed]",
      "text/plain": [
       "<Figure size 720x432 with 1 Axes>"
      ]
     },
     "metadata": {
      "needs_background": "light"
     },
     "output_type": "display_data"
    }
   ],
   "source": [
    "# Split train data and test data\n",
    "train_size = int(len(df)*0.8)\n",
    "train_dataset, test_dataset = df.iloc[:train_size], df.iloc[train_size:]\n",
    "\n",
    "# Plot train and test data\n",
    "plt.figure(figsize = (10, 6))\n",
    "plt.plot(train_dataset.latitude)\n",
    "plt.plot(test_dataset.latitude)\n",
    "plt.xlabel('Time (day)')\n",
    "plt.ylabel('Positions')\n",
    "plt.legend(['Train set', 'Test set'], loc='upper right')\n",
    "print('Dimension of train data: ',train_dataset.shape)\n",
    "print('Dimension of test data: ', test_dataset.shape)"
   ]
  },
  {
   "cell_type": "code",
   "execution_count": 18,
   "id": "3965269a",
   "metadata": {},
   "outputs": [],
   "source": [
    "# Split train data to X and y\n",
    "X_train = train_dataset.drop('track_id', axis = 1)\n",
    "y_train = train_dataset.drop('track_id', axis = 1)\n",
    "\n",
    "# Split test data to X and y\n",
    "X_test = test_dataset.drop('track_id', axis = 1)\n",
    "y_test = test_dataset.drop('track_id', axis = 1)"
   ]
  },
  {
   "cell_type": "code",
   "execution_count": 19,
   "id": "9f193166",
   "metadata": {},
   "outputs": [],
   "source": [
    "# Different scaler for input and output\n",
    "#scaler_x = MinMaxScaler(feature_range = (0,1))\n",
    "#scaler_y = MinMaxScaler(feature_range = (0,1))\n",
    "\n",
    "# Fit the scaler using available training data\n",
    "#input_scaler = scaler_x.fit(X_train)\n",
    "#output_scaler = scaler_y.fit(y_train)\n",
    "\n",
    "# Apply the scaler to training data\n",
    "#train_y_norm = output_scaler.transform(y_train)\n",
    "#train_x_norm = input_scaler.transform(X_train)\n",
    "\n",
    "# Apply the scaler to test data\n",
    "#test_y_norm = output_scaler.transform(y_test)\n",
    "#test_x_norm = input_scaler.transform(X_test)\n",
    "\n",
    "train_y_norm = y_train.to_numpy()\n",
    "train_x_norm = X_train.to_numpy()\n",
    "\n",
    "test_y_norm = y_test.to_numpy()\n",
    "test_x_norm = X_test.to_numpy()"
   ]
  },
  {
   "cell_type": "code",
   "execution_count": 20,
   "id": "062baa17",
   "metadata": {},
   "outputs": [
    {
     "name": "stdout",
     "output_type": "stream",
     "text": [
      "X_train.shape:  (3458, 30, 2)\n",
      "y_train.shape:  (13922, 2)\n",
      "X_test.shape:  (3458, 30, 2)\n",
      "y_test.shape:  (13922, 2)\n"
     ]
    }
   ],
   "source": [
    "# Create a 3D input\n",
    "def create_dataset (X, y, time_steps = 1):\n",
    "    Xs, ys = [], []\n",
    "    for i in range(len(X)-time_steps):\n",
    "        v = X[i:i+time_steps, :]\n",
    "        Xs.append(v)\n",
    "        ys.append(y[i+time_steps])\n",
    "    return np.array(Xs), np.array(ys)\n",
    "TIME_STEPS = 50\n",
    "X_test, y_test = create_dataset(test_x_norm, test_y_norm,   \n",
    "                                TIME_STEPS)\n",
    "X_train, y_train = create_dataset(train_x_norm, train_y_norm, \n",
    "                                  TIME_STEPS)\n",
    "print('X_train.shape: ', X_test.shape)\n",
    "print('y_train.shape: ', y_train.shape)\n",
    "print('X_test.shape: ', X_test.shape)\n",
    "print('y_test.shape: ', y_train.shape)"
   ]
  },
  {
   "cell_type": "code",
   "execution_count": 21,
   "id": "41c0a015",
   "metadata": {},
   "outputs": [],
   "source": [
    "# Create BiLSTM model\n",
    "def create_model_bilstm(units):\n",
    "    model = Sequential()\n",
    "    model.add(Bidirectional(LSTM(units = units,                             \n",
    "              return_sequences=True),\n",
    "              input_shape=(X_train.shape[1], X_train.shape[2])))\n",
    "    model.add(Bidirectional(LSTM(units = units)))\n",
    "    model.add(Dense(2))\n",
    "    #Compile model\n",
    "    model.compile(loss='mse', optimizer='adam')\n",
    "    return model\n",
    "# Create LSTM or GRU model\n",
    "def create_model(units, m):\n",
    "    model = Sequential()\n",
    "    model.add(m (units = units, return_sequences = True,\n",
    "                input_shape = [X_train.shape[1], X_train.shape[2]]))\n",
    "    model.add(Dropout(0.2))\n",
    "    model.add(m (units = units))\n",
    "    model.add(Dropout(0.2))\n",
    "    model.add(Dense(units = 2))\n",
    "    #Compile model\n",
    "    model.compile(loss='mse', optimizer='adam')\n",
    "    return model\n",
    "# BiLSTM\n",
    "model_bilstm = create_model_bilstm(64)\n",
    "# GRU and LSTM\n",
    "model_gru = create_model(64, GRU)\n",
    "model_lstm = create_model(64, LSTM)"
   ]
  },
  {
   "cell_type": "code",
   "execution_count": 22,
   "id": "7378e5e6",
   "metadata": {},
   "outputs": [
    {
     "name": "stdout",
     "output_type": "stream",
     "text": [
      "Epoch 1/20\n",
      "349/349 [==============================] - 16s 32ms/step - loss: 214.5408 - val_loss: 0.0698\n",
      "Epoch 2/20\n",
      "349/349 [==============================] - 10s 27ms/step - loss: 1.0032 - val_loss: 0.0012\n",
      "Epoch 3/20\n",
      "349/349 [==============================] - 10s 28ms/step - loss: 0.9928 - val_loss: 7.5490e-04\n",
      "Epoch 4/20\n",
      "349/349 [==============================] - 10s 28ms/step - loss: 0.9964 - val_loss: 8.8626e-04\n",
      "Epoch 5/20\n",
      "349/349 [==============================] - 9s 27ms/step - loss: 0.9997 - val_loss: 8.9183e-04\n",
      "Epoch 6/20\n",
      "349/349 [==============================] - 9s 27ms/step - loss: 1.0029 - val_loss: 8.3347e-04\n",
      "Epoch 7/20\n",
      "349/349 [==============================] - 10s 27ms/step - loss: 1.0059 - val_loss: 8.0465e-04\n",
      "Epoch 8/20\n",
      "349/349 [==============================] - 9s 27ms/step - loss: 1.0088 - val_loss: 8.1082e-04\n",
      "Epoch 9/20\n",
      "349/349 [==============================] - 10s 28ms/step - loss: 1.0115 - val_loss: 8.4019e-04\n",
      "Epoch 10/20\n",
      "349/349 [==============================] - 10s 28ms/step - loss: 1.0137 - val_loss: 8.7558e-04\n",
      "Epoch 11/20\n",
      "349/349 [==============================] - 10s 28ms/step - loss: 1.0154 - val_loss: 9.0651e-04\n",
      "Epoch 12/20\n",
      "349/349 [==============================] - 10s 28ms/step - loss: 1.0170 - val_loss: 9.0926e-04\n",
      "Epoch 13/20\n",
      "349/349 [==============================] - 10s 29ms/step - loss: 1.0178 - val_loss: 9.0661e-04\n",
      "Epoch 1/20\n",
      "349/349 [==============================] - 13s 29ms/step - loss: 337.1953 - val_loss: 35.6488\n",
      "Epoch 2/20\n",
      "349/349 [==============================] - 10s 29ms/step - loss: 23.1536 - val_loss: 0.9841\n",
      "Epoch 3/20\n",
      "349/349 [==============================] - 9s 27ms/step - loss: 4.2607 - val_loss: 0.0091\n",
      "Epoch 4/20\n",
      "349/349 [==============================] - 9s 26ms/step - loss: 4.1211 - val_loss: 0.0034\n",
      "Epoch 5/20\n",
      "349/349 [==============================] - 9s 26ms/step - loss: 3.9533 - val_loss: 0.0056\n",
      "Epoch 6/20\n",
      "349/349 [==============================] - 9s 27ms/step - loss: 4.0816 - val_loss: 0.0031\n",
      "Epoch 7/20\n",
      "349/349 [==============================] - 9s 26ms/step - loss: 4.0081 - val_loss: 0.0088\n",
      "Epoch 8/20\n",
      "349/349 [==============================] - 9s 26ms/step - loss: 3.9882 - val_loss: 0.0015\n",
      "Epoch 9/20\n",
      "349/349 [==============================] - 9s 26ms/step - loss: 4.0968 - val_loss: 0.0040\n",
      "Epoch 10/20\n",
      "349/349 [==============================] - 9s 26ms/step - loss: 3.9622 - val_loss: 0.0040\n",
      "Epoch 11/20\n",
      "349/349 [==============================] - 9s 26ms/step - loss: 3.9370 - val_loss: 0.0075\n",
      "Epoch 12/20\n",
      "349/349 [==============================] - 9s 26ms/step - loss: 3.9603 - val_loss: 0.0067\n",
      "Epoch 13/20\n",
      "349/349 [==============================] - 9s 26ms/step - loss: 3.8471 - val_loss: 0.0170\n",
      "Epoch 14/20\n",
      "349/349 [==============================] - 9s 27ms/step - loss: 3.9285 - val_loss: 0.0430\n",
      "Epoch 15/20\n",
      "349/349 [==============================] - 9s 27ms/step - loss: 3.9459 - val_loss: 0.0081\n",
      "Epoch 16/20\n",
      "349/349 [==============================] - 9s 27ms/step - loss: 3.9287 - val_loss: 0.0355\n",
      "Epoch 17/20\n",
      "349/349 [==============================] - 9s 27ms/step - loss: 3.8478 - val_loss: 0.0214\n",
      "Epoch 18/20\n",
      "349/349 [==============================] - 9s 27ms/step - loss: 3.8944 - val_loss: 0.0442\n",
      "Epoch 1/20\n",
      "349/349 [==============================] - 12s 27ms/step - loss: 355.6467 - val_loss: 48.6337\n",
      "Epoch 2/20\n",
      "349/349 [==============================] - 9s 25ms/step - loss: 31.5349 - val_loss: 1.9635\n",
      "Epoch 3/20\n",
      "349/349 [==============================] - 9s 26ms/step - loss: 4.7217 - val_loss: 0.0256\n",
      "Epoch 4/20\n",
      "349/349 [==============================] - 9s 25ms/step - loss: 4.1305 - val_loss: 0.0037\n",
      "Epoch 5/20\n",
      "349/349 [==============================] - 9s 25ms/step - loss: 3.9929 - val_loss: 0.0034\n",
      "Epoch 6/20\n",
      "349/349 [==============================] - 9s 25ms/step - loss: 4.1114 - val_loss: 0.0020\n",
      "Epoch 7/20\n",
      "349/349 [==============================] - 9s 25ms/step - loss: 4.0303 - val_loss: 0.0076\n",
      "Epoch 8/20\n",
      "349/349 [==============================] - 9s 25ms/step - loss: 4.0093 - val_loss: 7.5499e-04\n",
      "Epoch 9/20\n",
      "349/349 [==============================] - 10s 28ms/step - loss: 4.1122 - val_loss: 0.0027\n",
      "Epoch 10/20\n",
      "349/349 [==============================] - 10s 29ms/step - loss: 3.9955 - val_loss: 0.0040\n",
      "Epoch 11/20\n",
      "349/349 [==============================] - 9s 25ms/step - loss: 3.9523 - val_loss: 0.0065\n",
      "Epoch 12/20\n",
      "349/349 [==============================] - 9s 26ms/step - loss: 3.9774 - val_loss: 0.0053\n",
      "Epoch 13/20\n",
      "349/349 [==============================] - 9s 27ms/step - loss: 3.8522 - val_loss: 0.0168\n",
      "Epoch 14/20\n",
      "349/349 [==============================] - 9s 27ms/step - loss: 3.9330 - val_loss: 0.0458\n",
      "Epoch 15/20\n",
      "349/349 [==============================] - 9s 26ms/step - loss: 3.9610 - val_loss: 0.0075\n",
      "Epoch 16/20\n",
      "349/349 [==============================] - 9s 25ms/step - loss: 3.9449 - val_loss: 0.0364\n",
      "Epoch 17/20\n",
      "349/349 [==============================] - 9s 25ms/step - loss: 3.8872 - val_loss: 0.0228\n",
      "Epoch 18/20\n",
      "349/349 [==============================] - 9s 25ms/step - loss: 3.9483 - val_loss: 0.0451\n"
     ]
    }
   ],
   "source": [
    "# Fit BiLSTM, LSTM and GRU\n",
    "def fit_model(model):\n",
    "    early_stop = keras.callbacks.EarlyStopping(monitor = 'val_loss',\n",
    "                                               patience = 10)\n",
    "    history = model.fit(X_train, y_train, epochs = 10,  \n",
    "                        validation_split = 0.2, batch_size = 32, \n",
    "                        shuffle = False, callbacks = [early_stop])\n",
    "    return history\n",
    "history_bilstm = fit_model(model_bilstm)\n",
    "history_lstm = fit_model(model_lstm)\n",
    "history_gru = fit_model(model_gru)"
   ]
  },
  {
   "cell_type": "code",
   "execution_count": 23,
   "id": "f01dedef",
   "metadata": {},
   "outputs": [
    {
     "data": {
      "image/png": "[encoded data removed]",
      "text/plain": [
       "<Figure size 720x432 with 1 Axes>"
      ]
     },
     "metadata": {
      "needs_background": "light"
     },
     "output_type": "display_data"
    },
    {
     "data": {
      "image/png": "[encoded data removed]",
      "text/plain": [
       "<Figure size 720x432 with 1 Axes>"
      ]
     },
     "metadata": {
      "needs_background": "light"
     },
     "output_type": "display_data"
    },
    {
     "data": {
      "image/png": "[encoded data removed]",
      "text/plain": [
       "<Figure size 720x432 with 1 Axes>"
      ]
     },
     "metadata": {
      "needs_background": "light"
     },
     "output_type": "display_data"
    }
   ],
   "source": [
    "# Plot train loss and validation loss\n",
    "def plot_loss (history):\n",
    "    plt.figure(figsize = (10, 6))\n",
    "    plt.plot(history.history['loss'])\n",
    "    plt.plot(history.history['val_loss'])\n",
    "    plt.ylabel('Loss')\n",
    "    plt.xlabel('epoch')\n",
    "    plt.legend(['Train loss', 'Validation loss'], loc='upper right')\n",
    "plot_loss (history_bilstm)\n",
    "plot_loss (history_lstm)\n",
    "plot_loss (history_gru)"
   ]
  },
  {
   "cell_type": "code",
   "execution_count": 25,
   "id": "387a17da",
   "metadata": {},
   "outputs": [],
   "source": [
    "#y_test = scaler_y.inverse_transform(y_test)\n",
    "#y_train = scaler_y.inverse_transform(y_train)"
   ]
  },
  {
   "cell_type": "code",
   "execution_count": 29,
   "id": "d5d13996",
   "metadata": {},
   "outputs": [
    {
     "data": {
      "image/png": "[encoded data removed]",
      "text/plain": [
       "<Figure size 720x432 with 1 Axes>"
      ]
     },
     "metadata": {
      "needs_background": "light"
     },
     "output_type": "display_data"
    },
    {
     "data": {
      "image/png": "[encoded data removed]",
      "text/plain": [
       "<Figure size 720x432 with 1 Axes>"
      ]
     },
     "metadata": {
      "needs_background": "light"
     },
     "output_type": "display_data"
    },
    {
     "data": {
      "image/png": "[encoded data removed]",
      "text/plain": [
       "<Figure size 720x432 with 1 Axes>"
      ]
     },
     "metadata": {
      "needs_background": "light"
     },
     "output_type": "display_data"
    }
   ],
   "source": [
    "# Make prediction\n",
    "def prediction(model):\n",
    "    prediction = model.predict(X_test)\n",
    "    #prediction = scaler_y.inverse_transform(prediction)\n",
    "    return prediction\n",
    "prediction_bilstm = prediction(model_bilstm)\n",
    "prediction_lstm = prediction(model_lstm)\n",
    "prediction_gru = prediction(model_gru)\n",
    "\n",
    "# Plot true future vs prediction\n",
    "def plot_future(prediction, y_test):\n",
    "    plt.figure(figsize=(10, 6))\n",
    "    range_future = len(prediction)\n",
    "    plt.plot(np.arange(range_future), np.array(y_test), \n",
    "             label='True Future')     \n",
    "    plt.plot(np.arange(range_future),np.array(prediction),\n",
    "            label='Prediction')\n",
    "    plt.legend(loc='upper left')\n",
    "    plt.xlabel('Time')\n",
    "    plt.ylabel('Positions')\n",
    "plot_future(prediction_bilstm, y_test)\n",
    "plot_future(prediction_lstm, y_test)\n",
    "plot_future(prediction_gru, y_test)"
   ]
  },
  {
   "cell_type": "code",
   "execution_count": 30,
   "id": "325eca65",
   "metadata": {},
   "outputs": [
    {
     "name": "stdout",
     "output_type": "stream",
     "text": [
      "Bidirectional LSTM:\n",
      "Mean Absolute Error: 0.0211\n",
      "Root Mean Square Error: 0.0263\n",
      "\n",
      "LSTM:\n",
      "Mean Absolute Error: 0.1949\n",
      "Root Mean Square Error: 0.2138\n",
      "\n",
      "GRU:\n",
      "Mean Absolute Error: 0.1908\n",
      "Root Mean Square Error: 0.2152\n",
      "\n"
     ]
    }
   ],
   "source": [
    "# Define a function to calculate MAE and RMSE\n",
    "def evaluate_prediction(predictions, actual, model_name):\n",
    "    errors = predictions - actual\n",
    "    mse = np.square(errors).mean()\n",
    "    rmse = np.sqrt(mse)\n",
    "    mae = np.abs(errors).mean()\n",
    "    print(model_name + ':')\n",
    "    print('Mean Absolute Error: {:.4f}'.format(mae))\n",
    "    print('Root Mean Square Error: {:.4f}'.format(rmse))\n",
    "    print('')\n",
    "evaluate_prediction(prediction_bilstm, y_test, 'Bidirectional LSTM')\n",
    "evaluate_prediction(prediction_lstm, y_test, 'LSTM')\n",
    "evaluate_prediction(prediction_gru, y_test, 'GRU')"
   ]
  },
  {
   "cell_type": "markdown",
   "id": "25b78365",
   "metadata": {},
   "source": [
    "# For a new point -14.998912565549357, -39.31812497043452"
   ]
  },
  {
   "cell_type": "code",
   "execution_count": 31,
   "id": "b0781fd1",
   "metadata": {},
   "outputs": [
    {
     "data": {
      "text/plain": [
       "array([[-10.98785375, -37.05628288]])"
      ]
     },
     "execution_count": 31,
     "metadata": {},
     "output_type": "execute_result"
    }
   ],
   "source": [
    "X_new = X_test[0,0].reshape(-1, 2)\n",
    "X_new"
   ]
  },
  {
   "cell_type": "code",
   "execution_count": 33,
   "id": "cf07f402",
   "metadata": {},
   "outputs": [
    {
     "ename": "NameError",
     "evalue": "name 'X' is not defined",
     "output_type": "error",
     "traceback": [
      "\u001b[1;31m---------------------------------------------------------------------------\u001b[0m",
      "\u001b[1;31mNameError\u001b[0m                                 Traceback (most recent call last)",
      "\u001b[1;32m<ipython-input-33-2958a8617f0a>\u001b[0m in \u001b[0;36m<module>\u001b[1;34m\u001b[0m\n\u001b[0;32m     26\u001b[0m     \u001b[0mprediction_actual\u001b[0m \u001b[1;33m=\u001b[0m \u001b[0mscaler_y\u001b[0m\u001b[1;33m.\u001b[0m\u001b[0minverse_transform\u001b[0m\u001b[1;33m(\u001b[0m\u001b[0mprediction\u001b[0m\u001b[1;33m)\u001b[0m\u001b[1;33m\u001b[0m\u001b[1;33m\u001b[0m\u001b[0m\n\u001b[0;32m     27\u001b[0m     \u001b[1;32mreturn\u001b[0m \u001b[0mprediction_actual\u001b[0m\u001b[1;33m\u001b[0m\u001b[1;33m\u001b[0m\u001b[0m\n\u001b[1;32m---> 28\u001b[1;33m \u001b[0mprediction\u001b[0m \u001b[1;33m=\u001b[0m \u001b[0mforecast\u001b[0m\u001b[1;33m(\u001b[0m\u001b[0mX_new\u001b[0m\u001b[1;33m,\u001b[0m \u001b[0mTIME_STEPS\u001b[0m\u001b[1;33m)\u001b[0m\u001b[1;33m\u001b[0m\u001b[1;33m\u001b[0m\u001b[0m\n\u001b[0m\u001b[0;32m     29\u001b[0m \u001b[0mplot_history_future\u001b[0m\u001b[1;33m(\u001b[0m\u001b[0my_train\u001b[0m\u001b[1;33m,\u001b[0m \u001b[0mprediction\u001b[0m\u001b[1;33m)\u001b[0m\u001b[1;33m\u001b[0m\u001b[1;33m\u001b[0m\u001b[0m\n",
      "\u001b[1;32m<ipython-input-33-2958a8617f0a>\u001b[0m in \u001b[0;36mforecast\u001b[1;34m(X_input, time_steps)\u001b[0m\n\u001b[0;32m     18\u001b[0m     \u001b[1;31m# Reshape unseen data to a 3D input\u001b[0m\u001b[1;33m\u001b[0m\u001b[1;33m\u001b[0m\u001b[1;33m\u001b[0m\u001b[0m\n\u001b[0;32m     19\u001b[0m     \u001b[0mXs\u001b[0m \u001b[1;33m=\u001b[0m \u001b[1;33m[\u001b[0m\u001b[1;33m]\u001b[0m\u001b[1;33m\u001b[0m\u001b[1;33m\u001b[0m\u001b[0m\n\u001b[1;32m---> 20\u001b[1;33m     \u001b[1;32mfor\u001b[0m \u001b[0mi\u001b[0m \u001b[1;32min\u001b[0m \u001b[0mrange\u001b[0m\u001b[1;33m(\u001b[0m\u001b[0mlen\u001b[0m\u001b[1;33m(\u001b[0m\u001b[0mX\u001b[0m\u001b[1;33m)\u001b[0m \u001b[1;33m-\u001b[0m \u001b[0mtime_steps\u001b[0m\u001b[1;33m)\u001b[0m\u001b[1;33m:\u001b[0m\u001b[1;33m\u001b[0m\u001b[1;33m\u001b[0m\u001b[0m\n\u001b[0m\u001b[0;32m     21\u001b[0m         \u001b[0mv\u001b[0m \u001b[1;33m=\u001b[0m \u001b[0mX\u001b[0m\u001b[1;33m[\u001b[0m\u001b[0mi\u001b[0m\u001b[1;33m:\u001b[0m\u001b[0mi\u001b[0m\u001b[1;33m+\u001b[0m\u001b[0mtime_steps\u001b[0m\u001b[1;33m,\u001b[0m \u001b[1;33m:\u001b[0m\u001b[1;33m]\u001b[0m\u001b[1;33m\u001b[0m\u001b[1;33m\u001b[0m\u001b[0m\n\u001b[0;32m     22\u001b[0m         \u001b[0mXs\u001b[0m\u001b[1;33m.\u001b[0m\u001b[0mappend\u001b[0m\u001b[1;33m(\u001b[0m\u001b[0mv\u001b[0m\u001b[1;33m)\u001b[0m\u001b[1;33m\u001b[0m\u001b[1;33m\u001b[0m\u001b[0m\n",
      "\u001b[1;31mNameError\u001b[0m: name 'X' is not defined"
     ]
    }
   ],
   "source": [
    "# Plot histoy and future data\n",
    "def plot_history_future(y_train, prediction):\n",
    "    plt.figure(figsize=(10, 6))\n",
    "    range_history = len(y_train)\n",
    "    range_future = list(range(range_history, range_history +\n",
    "                   len(prediction)))\n",
    "    plt.plot(np.arange(range_history), np.array(y_train), \n",
    "             label='History')\n",
    "    plt.plot(range_future, np.array(prediction),label='Prediction')\n",
    "    plt.legend(loc='upper right')\n",
    "    plt.xlabel('Time')\n",
    "    plt.ylabel('Position')\n",
    "    \n",
    "# Multi-step forecasting \n",
    "def forecast(X_input, time_steps):\n",
    "    # Scale the unseen input with the scaler fitted on the train set\n",
    "    #X = input_scaler.transform(X_input)\n",
    "    # Reshape unseen data to a 3D input\n",
    "    Xs = []\n",
    "    for i in range(len(X) - time_steps):\n",
    "        v = X[i:i+time_steps, :]\n",
    "        Xs.append(v)\n",
    "    X_transformed = np.array(Xs)\n",
    "    # Make prediction for unseen data using LSTM model\n",
    "    prediction = model_bilstm.predict(X_transformed)\n",
    "    prediction_actual = scaler_y.inverse_transform(prediction)\n",
    "    return prediction_actual\n",
    "prediction = forecast(X_new, TIME_STEPS)\n",
    "plot_history_future(y_train, prediction)"
   ]
  }
 ],
 "metadata": {
  "kernelspec": {
   "display_name": "Python 3",
   "language": "python",
   "name": "python3"
  },
  "language_info": {
   "codemirror_mode": {
    "name": "ipython",
    "version": 3
   },
   "file_extension": ".py",
   "mimetype": "text/x-python",
   "name": "python",
   "nbconvert_exporter": "python",
   "pygments_lexer": "ipython3",
   "version": "3.8.8"
  }
 },
 "nbformat": 4,
 "nbformat_minor": 5
}
